{
 "cells": [
  {
   "cell_type": "code",
   "execution_count": 1,
   "metadata": {},
   "outputs": [],
   "source": [
    "import numpy as np\n",
    "import matplotlib.pyplot as plt\n",
    "from ase import Atoms\n",
    "from samos.trajectory import Trajectory\n",
    "from samos.utils.constants import *\n",
    "from samos.analysis.get_gaussian_density  import get_gaussian_density \n",
    "from samos.lib.mdutils import recenter_positions"
   ]
  },
  {
   "attachments": {},
   "cell_type": "markdown",
   "metadata": {},
   "source": [
    "This example shows how to use a QE input file and a CP trajectory to plot the density of the Li-ions and of the rigid sublattice in LGPS.\n",
    "\n",
    "NB: the files are not provided here, the goal is to showcase the code.\n",
    "\n",
    "The positions of the QE input file and of the CP trajectory are aligned removing the drift of the center of the rigid sublattice."
   ]
  },
  {
   "cell_type": "code",
   "execution_count": 11,
   "metadata": {},
   "outputs": [],
   "source": [
    "def load_start_configuration_from_qe_file(file_scf_input):\n",
    "     \"\"\"\n",
    "     Read starting postisions and nat from a QE input file\n",
    "     \"\"\"\n",
    "     with open(file_scf_input) as finit:\n",
    "          finit_lines = finit.readlines()\n",
    "     iat=-1\n",
    "     types=[]\n",
    "     start_positions=[]\n",
    "     for l in finit_lines:\n",
    "          if len(l.split())>0:\n",
    "               if l.split('=')[0].strip()=='nat':\n",
    "                    snat=l.split('=')[1].strip()\n",
    "                    if snat[-1]==',':\n",
    "                         snat=snat[:-1]\n",
    "                    print(snat)\n",
    "                    nat=int(snat)\n",
    "                    print(f'Detected {nat} atoms')\n",
    "               if l.split()[0]=='ATOMIC_POSITIONS':\n",
    "                    iat+=1\n",
    "                    if len(l.split())>0 and l.split()[1].strip()=='bohr' or l.split()[1].strip()=='(bohr)':\n",
    "                         print('Detected bohr we move to angstrom units')\n",
    "                         factor=bohr_to_ang\n",
    "                    else:\n",
    "                         print('We assume angstrom units')\n",
    "                         factor=1\n",
    "               elif iat>=0 and iat<nat:\n",
    "                    if not l[0]=='#':\n",
    "                         split=l.split()\n",
    "                         typ=split[0]\n",
    "                         types.append(typ)\n",
    "                         iat+=1\n",
    "                         pos=np.array([float(split[1])*factor,float(split[2])*factor,float(split[3])*factor])\n",
    "                         start_positions.append(pos)\n",
    "     start_positions=np.array(start_positions)\n",
    "     assert(len(types)==nat)\n",
    "     assert(start_positions.shape==(nat,3))\n",
    "     return nat, start_positions\n",
    "\n",
    "\n",
    "def load_trajectory_from_cp_file(file_traj, format='bohr'):\n",
    "    \"\"\"\n",
    "    Read trajectory from a trajectory output from cp.x\n",
    "    \"\"\"\n",
    "    with open(file_traj) as ftraj:\n",
    "        ftraj_lines = ftraj.readlines()\n",
    "        nt = int(len(ftraj_lines)/(nat+1))\n",
    "        positionsArr = np.zeros((nt,nat,3),dtype=float)\n",
    "        for it in range(0,nt):\n",
    "            every_nstep_pos = []\n",
    "            for line in ftraj_lines[((nat+1)*it)+1:(nat+1)*(it+1)]:\n",
    "                y = line.split()\n",
    "                y = np.array(y,dtype=float)\n",
    "                every_nstep_pos.append(y)\n",
    "            if format=='bohr':\n",
    "                positionsArr[it,:,:] = np.array(every_nstep_pos,dtype=float) * bohr_to_ang #NB: I put the positions in angstrom as required by the documentation\n",
    "            else:\n",
    "                positionsArr[it,:,:] = np.array(every_nstep_pos,dtype=float)\n",
    "    delta=np.abs(float(ftraj_lines[0].split()[1])-float(ftraj_lines[0+nat+1].split()[1]))\n",
    "    delta=delta*1000 #NB: I put the time in femtoseconds as required by the documentation --> should not matter for just getting the density\n",
    "    timestep=delta \n",
    "    return positionsArr, timestep"
   ]
  },
  {
   "cell_type": "code",
   "execution_count": 5,
   "metadata": {},
   "outputs": [],
   "source": [
    "### Input --> change here (and only here, hopefully)\n",
    "a = 16.4294 * bohr_to_ang\n",
    "b = a  \n",
    "c = 16.4294 * 1.44919 * bohr_to_ang\n",
    "simulation_cell=[[a,0,0],[0,b,0],[0,0,c]]\n",
    "formula='Li20Ge2P4S24'\n",
    "rigid_lattice=['Ge','P','S']\n",
    "\n",
    "# from this file we take the starting positions\n",
    "file_scf_input='/Users/arismarcolongo/Desktop/qe/LGPS_free8.in'\n",
    "# trajectory file\n",
    "file_traj='/Users/arismarcolongo/Desktop/qe/giuliana/NVE/tLGPS/NVE_850K/tLGPS_850K-NVE.pos'"
   ]
  },
  {
   "cell_type": "code",
   "execution_count": 6,
   "metadata": {},
   "outputs": [
    {
     "name": "stdout",
     "output_type": "stream",
     "text": [
      "50\n",
      "Detected 50 atoms\n",
      "Detected bohr we move to angstrom units\n"
     ]
    }
   ],
   "source": [
    "nat, start_positions = load_start_configuration_from_qe_file(file_scf_input)\n",
    "positionsArr, timestep = load_trajectory_from_cp_file(file_traj)"
   ]
  },
  {
   "cell_type": "code",
   "execution_count": 7,
   "metadata": {},
   "outputs": [
    {
     "name": "stdout",
     "output_type": "stream",
     "text": [
      "We recenter so that the centre of the rigid sublattice is at zero\n"
     ]
    }
   ],
   "source": [
    "## initialize atoms and trajectory object\n",
    "\n",
    "atoms = Atoms(formula)\n",
    "atoms.set_positions(start_positions)\n",
    "atoms.cell = np.array(simulation_cell)\n",
    "t = Trajectory()\n",
    "t.set_timestep(timestep)\n",
    "t.set_atoms(atoms)\n",
    "t.set_positions(np.array(positionsArr))\n",
    "\n",
    "print('We recenter so that the centre of the rigid sublattice is at zero')\n",
    "t.recenter(rigid_lattice, mode='geometric')"
   ]
  },
  {
   "cell_type": "code",
   "execution_count": 8,
   "metadata": {},
   "outputs": [],
   "source": [
    "def evaluate_com(conf, mode=None):\n",
    "    indices_rigid_z = np.array(list(t.get_indices_of_species('Ge', start=0))+\\\n",
    "                    list(t.get_indices_of_species('P', start=0))+\\\n",
    "                    list(t.get_indices_of_species('S', start=0)))\n",
    "    masses = t.atoms.get_masses()\n",
    "    if mode=='geometric':\n",
    "        masses = [1.0]*len(masses)\n",
    "    num=np.sum(np.array([conf[i,:]*masses[i] for i in indices_rigid_z]), axis=0)\n",
    "    den=np.sum(np.array([masses[i] for i in indices_rigid_z]))\n",
    "    return num/den\n",
    "    \n",
    "com = evaluate_com(start_positions, mode='geometric')"
   ]
  },
  {
   "cell_type": "code",
   "execution_count": 9,
   "metadata": {},
   "outputs": [],
   "source": [
    "# we shift all again so that the com of the rigid sublattice is aligned with the centre at the starting configuration\n",
    "shift_all=True\n",
    "if shift_all:\n",
    "    pos=t.get_positions()\n",
    "    nstep, nat, ncoord = pos.shape\n",
    "    for i in range(nstep):\n",
    "        for j in range(nat):\n",
    "            pos[i,j,:]=pos[i,j,:]+com #how to do better with broadcast ?\n",
    "    #probably not needed (pos is a reference) but but just to be sure\n",
    "    t.set_positions(np.array(pos))"
   ]
  },
  {
   "cell_type": "code",
   "execution_count": 10,
   "metadata": {},
   "outputs": [
    {
     "name": "stdout",
     "output_type": "stream",
     "text": [
      "(get_gaussian_density) indices_i_care: [ 1  2  3  4  5  6  7  8  9 10 11 12 13 14 15 16 17 18 19 20]\n",
      "Grid is 87 x 87 x 126\n",
      "Box is  8.694064069089048 x 8.694064069089048 x 12.59935070828316\n",
      "Writing xsf file to out_li_all_test_2.xsf\n",
      "(get_gaussian_density) We do not show these atoms in the xsf file: []\n",
      "=(get_gaussian_density) indices_i_care: [21 22 23 24 25 26 27 28 29 30 31 32 33 34 35 36 37 38 39 40 41 42 43 44\n",
      " 45 46 47 48 49 50]\n",
      "===============================================================================Grid is 87 x 87 x 126\n",
      "Box is  8.694064069089048 x 8.694064069089048 x 12.59935070828316\n",
      "Writing xsf file to out_rigid_all_test_2.xsf\n",
      "(get_gaussian_density) We do not show these atoms in the xsf file: []\n",
      "================================================================================"
     ]
    }
   ],
   "source": [
    "indices_li = t.get_indices_of_species('Li', start=1)\n",
    "indices_rigid = np.array(list(t.get_indices_of_species('Ge', start=1))+\\\n",
    "                 list(t.get_indices_of_species('P', start=1))+\\\n",
    "                 list(t.get_indices_of_species('S', start=1)))\n",
    "\n",
    "get_gaussian_density(t, element=None, \n",
    "                     outputfile='out_li_all_test_2.xsf',\n",
    "                     indices_i_care=indices_li, \n",
    "                     indices_exclude_from_plot=[]) \n",
    "\n",
    "get_gaussian_density(t, element=None, \n",
    "                     outputfile='out_rigid_all_test_2.xsf',\n",
    "                     indices_i_care=indices_rigid, \n",
    "                     indices_exclude_from_plot=[]) "
   ]
  }
 ],
 "metadata": {
  "kernelspec": {
   "display_name": "samos",
   "language": "python",
   "name": "python3"
  },
  "language_info": {
   "codemirror_mode": {
    "name": "ipython",
    "version": 3
   },
   "file_extension": ".py",
   "mimetype": "text/x-python",
   "name": "python",
   "nbconvert_exporter": "python",
   "pygments_lexer": "ipython3",
   "version": "3.11.3"
  },
  "orig_nbformat": 4,
  "vscode": {
   "interpreter": {
    "hash": "c75bdb2dbea6550c6f2bdb6721bdc1e75f8bed222bf613c456ae7233562a6799"
   }
  }
 },
 "nbformat": 4,
 "nbformat_minor": 2
}
